{
 "cells": [
  {
   "cell_type": "markdown",
   "id": "eaec6ae5-00b3-487a-b284-21433c41812e",
   "metadata": {},
   "source": [
    "*Creating class*"
   ]
  },
  {
   "cell_type": "code",
   "execution_count": 1,
   "id": "54545ad0-3488-4432-8758-05760d23ce02",
   "metadata": {},
   "outputs": [
    {
     "name": "stdout",
     "output_type": "stream",
     "text": [
      "<class '__main__.email'>\n"
     ]
    }
   ],
   "source": [
    "class email:\n",
    "    pass \n",
    "\n",
    "e1=email()\n",
    "e2=email()\n",
    "print(type(e1))"
   ]
  },
  {
   "cell_type": "markdown",
   "id": "239e77a1-d7dd-4e22-855e-1c25fc8d2ad6",
   "metadata": {},
   "source": [
    "**Constructor** \n",
    "1:-default constructor\n",
    "2:- Non-Parameterized constructor\n",
    "3:-Parameterized constructor"
   ]
  },
  {
   "cell_type": "code",
   "execution_count": 4,
   "id": "91a844a4-402d-4d07-a03d-ef15922e586b",
   "metadata": {},
   "outputs": [
    {
     "name": "stdout",
     "output_type": "stream",
     "text": [
      "<class '__main__.employee'>\n",
      "{'name': 'shivam', 'age': 23}\n"
     ]
    }
   ],
   "source": [
    "class employee:\n",
    "    def __init__(self,nm,ag):\n",
    "        self.name=nm\n",
    "        self.age=ag\n",
    "    def display(self):\n",
    "        print(f\"name: {self.name} \\n age: {self.age}\")\n",
    "\n",
    "emp=employee(\"shivam\",23)\n",
    "print(type(emp))\n",
    "print(emp.__dict__)"
   ]
  },
  {
   "cell_type": "markdown",
   "id": "d7b7c536-7693-4ae6-b37a-2c45e59e3dee",
   "metadata": {},
   "source": [
    "Constructor-non Parameterized"
   ]
  },
  {
   "cell_type": "code",
   "execution_count": 5,
   "id": "14f61456-996e-404b-9b99-e11836c54036",
   "metadata": {},
   "outputs": [
    {
     "name": "stdout",
     "output_type": "stream",
     "text": [
      "{'salary': 22222, 'age': 23, 'name': 'shan'}\n"
     ]
    }
   ],
   "source": [
    "class employee():\n",
    "    def __init__(self):\n",
    "        self.salary=22222\n",
    "        self.age=23\n",
    "        self.name=\"shan\"\n",
    "\n",
    "e1=employee()\n",
    "e2=employee()\n",
    "print(e1.__dict__)"
   ]
  },
  {
   "cell_type": "markdown",
   "id": "3ac2e43a-5ac1-4e5d-8f10-babca348bd28",
   "metadata": {},
   "source": [
    "Accessing class Member"
   ]
  },
  {
   "cell_type": "code",
   "execution_count": 31,
   "id": "65b21d0c-8f4b-4568-9413-721051d825fa",
   "metadata": {},
   "outputs": [
    {
     "name": "stdout",
     "output_type": "stream",
     "text": [
      "intial salary of object1: 24000\n",
      "updated salary of object1: 40000\n",
      "intial salary of object2: 26000\n",
      "updated salary of object2 : 26000\n",
      "using built-in function  21\n",
      "using built-in function  None\n",
      "{'salary': 50000, 'age': 27}\n"
     ]
    }
   ],
   "source": [
    "class employee:\n",
    "    \"This class is for employee data\"\n",
    "    def __init__(self,sal,ag):\n",
    "        self.salary=sal\n",
    "        self.age=ag\n",
    "        #method present inside the employee\n",
    "    def display(self):\n",
    "        print(f\"Salary is: {self.salary} \\n age : {self.age}\")\n",
    "\n",
    "e1=employee(24000,21)\n",
    "e2=employee(26000,23)\n",
    "\n",
    "print(f\"intial salary of object1: {e1.salary}\")\n",
    "e1.salary=40000\n",
    "print(f\"updated salary of object1: {e1.salary}\")\n",
    "\n",
    "print(f\"intial salary of object2: {e2.salary}\")\n",
    "e1.salary=50000\n",
    "print(f\"updated salary of object2 : {e2.salary}\")\n",
    "\n",
    "print(\"using built-in function \" ,getattr(e1,\"age\"))\n",
    "print(\"using built-in function \" ,setattr(e1,\"age\",27))\n",
    "print(e1.__dict__)\n",
    "\n",
    "    "
   ]
  },
  {
   "cell_type": "code",
   "execution_count": 23,
   "id": "abedc1cf-b13f-4d0c-bf04-6fa2970ba12e",
   "metadata": {},
   "outputs": [
    {
     "name": "stdout",
     "output_type": "stream",
     "text": [
      "{'salary': 50000, 'age': 27}\n"
     ]
    }
   ],
   "source": [
    "print(e1.__dict__)"
   ]
  },
  {
   "cell_type": "code",
   "execution_count": 32,
   "id": "5eabb6ca-eab8-4d17-8819-acac403e8fc8",
   "metadata": {},
   "outputs": [
    {
     "name": "stdout",
     "output_type": "stream",
     "text": [
      "This class is for employee data\n"
     ]
    }
   ],
   "source": [
    "print(employee.__doc__)"
   ]
  },
  {
   "cell_type": "code",
   "execution_count": 33,
   "id": "e5c78f6b-12ef-487f-b09b-6766eb36c976",
   "metadata": {},
   "outputs": [
    {
     "name": "stdout",
     "output_type": "stream",
     "text": [
      "employee\n"
     ]
    }
   ],
   "source": [
    "print(employee.__name__)"
   ]
  },
  {
   "cell_type": "code",
   "execution_count": 34,
   "id": "8442964a-8f3d-40e1-9eb0-acc3d77effb7",
   "metadata": {},
   "outputs": [
    {
     "name": "stdout",
     "output_type": "stream",
     "text": [
      "__main__\n"
     ]
    }
   ],
   "source": [
    "print(employee.__module__)"
   ]
  },
  {
   "cell_type": "code",
   "execution_count": null,
   "id": "5c011961-1475-4e86-af08-a3c410563719",
   "metadata": {},
   "outputs": [],
   "source": []
  }
 ],
 "metadata": {
  "kernelspec": {
   "display_name": "Python 3 (ipykernel)",
   "language": "python",
   "name": "python3"
  },
  "language_info": {
   "codemirror_mode": {
    "name": "ipython",
    "version": 3
   },
   "file_extension": ".py",
   "mimetype": "text/x-python",
   "name": "python",
   "nbconvert_exporter": "python",
   "pygments_lexer": "ipython3",
   "version": "3.10.6"
  }
 },
 "nbformat": 4,
 "nbformat_minor": 5
}
